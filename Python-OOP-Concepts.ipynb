{
 "cells": [
  {
   "cell_type": "code",
   "execution_count": 2,
   "metadata": {},
   "outputs": [],
   "source": [
    "#Write and object oriented program that performs the following tasks:\n",
    "#1. Define a class called \"Employee\" and create an instance of that class\n",
    "#2. Create an attribute called name and assign it with a value\n",
    "#3. Change the name you previously defined within a method and call this method by making use of the object you created"
   ]
  },
  {
   "cell_type": "code",
   "execution_count": 4,
   "metadata": {},
   "outputs": [
    {
     "name": "stdout",
     "output_type": "stream",
     "text": [
      "Ben\n",
      "Mark\n",
      "Mark\n"
     ]
    }
   ],
   "source": [
    "class Employee:\n",
    "    # Define an attribute called name, note it is a class attribute\n",
    "    name = \"Ben\"\n",
    "\n",
    "    def changeName (self):\n",
    "        # Change the value of the attribute within a method\n",
    "        Employee.name = \"Mark\"\n",
    "\n",
    "employee = Employee()\n",
    "print(employee.name)\n",
    "employee.changeName()\n",
    "print(employee.name)\n",
    "employee1 = Employee()\n",
    "print(employee1.name)"
   ]
  },
  {
   "cell_type": "code",
   "execution_count": null,
   "metadata": {},
   "outputs": [],
   "source": [
    "#Write an object oriented program to create a precious stone.\n",
    "#Not more than 5 precious stones can be held in possession at a given point of time. If there are more than 5 \n",
    "#precious stones, delete the first stone and store the new one."
   ]
  },
  {
   "cell_type": "code",
   "execution_count": 8,
   "metadata": {},
   "outputs": [
    {
     "name": "stdout",
     "output_type": "stream",
     "text": [
      "Ruby\n",
      "Emerald\n",
      "Sapphire\n",
      "Diamond\n",
      "Amber\n",
      "Ruby Emerald Sapphire Diamond Amber \n",
      "Onyx\n",
      "Emerald Sapphire Diamond Amber Onyx \n"
     ]
    }
   ],
   "source": [
    "class PreciousStone:\n",
    "    numberOfPreciousStones = 0\n",
    "    preciousStoneCollection = []\n",
    "    def __init__(self, name):\n",
    "        self.name = name\n",
    "        # Increment the number of preciousStones\n",
    "        PreciousStone.numberOfPreciousStones += 1\n",
    "        print(self.name)\n",
    "        # Append the precious stone to the list if total number of stones are less than 5\n",
    "        if PreciousStone.numberOfPreciousStones <= 5:\n",
    "            PreciousStone.preciousStoneCollection.append(self)\n",
    "        else:\n",
    "            # If more than 5 stones are present, delete the first one and store the new one\n",
    "            del PreciousStone.preciousStoneCollection[0]\n",
    "            PreciousStone.preciousStoneCollection.append(self)\n",
    "\n",
    "    @staticmethod ## static method don't take the parameter self\n",
    "    def displayPreciousStones():\n",
    "        for preciousStone in PreciousStone.preciousStoneCollection:\n",
    "            print(preciousStone.name, end = ' ')\n",
    "        print()\n",
    "\n",
    "preciousStoneOne  = PreciousStone(\"Ruby\")\n",
    "preciousStoneTwo  = PreciousStone(\"Emerald\")\n",
    "preciousStoneThree  = PreciousStone(\"Sapphire\")\n",
    "preciousStoneFour  = PreciousStone(\"Diamond\")\n",
    "preciousStoneFive  = PreciousStone(\"Amber\")\n",
    "preciousStoneFive.displayPreciousStones()\n",
    "preciousStoneSix = PreciousStone(\"Onyx\")\n",
    "# Print all the stones after deleting the first stone\n",
    "preciousStoneSix.displayPreciousStones()"
   ]
  },
  {
   "cell_type": "code",
   "execution_count": 10,
   "metadata": {},
   "outputs": [],
   "source": [
    "#Similar to a library management system, write a program to provide layers of abstraction for a car rental system.\n",
    "#Your program should perform the following:\n",
    "#1. Hatchback, Sedan, SUV should be type of cars that arebeing provided for rent\n",
    "#2. Cost per day:\n",
    "#Hatchback - $30\n",
    "#Sedan- $50\n",
    "#SUV- $100\n",
    "#3. Give a prompt to the customer asking him the type of car and the number of days \n",
    "#he would like to borrow and provide the fare details to the user."
   ]
  },
  {
   "cell_type": "code",
   "execution_count": null,
   "metadata": {},
   "outputs": [],
   "source": [
    "class Car:\n",
    "    def __init__(self):\n",
    "        # A dictionary to map the type of car and price per day\n",
    "        self.carFare = {'Hatchback': 30, 'Sedan': 50, 'SUV': 100}\n",
    "\n",
    "    def displayFareDetails(self):\n",
    "        print(\"Cost per day: \")\n",
    "        print(\"Hatchback: $\",self.carFare['Hatchback'])\n",
    "        print(\"Sedan: $\", self.carFare['Sedan'])\n",
    "        print(\"SUV: $\", self.carFare['SUV'])\n",
    "\n",
    "    def calculateFare(self, typeOfCar, numberOfDays):\n",
    "        # Calculate the fare depending upon the type of car and number of days as requested by the user\n",
    "        return self.carFare[typeOfCar] * numberOfDays\n",
    "\n",
    "\n",
    "car = Car()\n",
    "while True:\n",
    "    print(\"Enter 1 to display the fare details\")\n",
    "    print(\"Enter 2 to rent a car\")\n",
    "    print(\"Enter 3 to exit\")\n",
    "    userChoice = (int(input()))\n",
    "    if userChoice is 1:\n",
    "        car.displayFareDetails()\n",
    "    elif userChoice is 2:\n",
    "        print(\"Enter the type of car you would like to borrow\")\n",
    "        typeOfCar = input()\n",
    "        print(\"Enter the number of days you would like to borrow the car\")\n",
    "        numberOfDays = int(input())\n",
    "        fare = car.calculateFare(typeOfCar, numberOfDays)\n",
    "        print(\"Total payable amount: $\",fare)\n",
    "        print(\"Thank you!\")\n",
    "    elif userChoice is 3:\n",
    "        quit()"
   ]
  },
  {
   "cell_type": "code",
   "execution_count": 4,
   "metadata": {},
   "outputs": [],
   "source": [
    "#Write an object oriented program that performs the following tasks:\n",
    "#1. Create a class called Chair from the base class Furniture\n",
    "#2. Teakwood should be the type of furniture that is used by all furnitures by default\n",
    "#3. The user can be given an option to change the type of wood used for chair if he wishes to\n",
    "#4. The number of legs of a chair should be a property that should not be altered outside the class"
   ]
  },
  {
   "cell_type": "code",
   "execution_count": 5,
   "metadata": {},
   "outputs": [
    {
     "name": "stdout",
     "output_type": "stream",
     "text": [
      "Would you like to change the type of wood from Teakwood? Y/N\n",
      "Y\n",
      "Enter the type of wood you would like your chair to be made of\n",
      "aam\n",
      "This chair is made of aam and has 4 legs\n"
     ]
    }
   ],
   "source": [
    "class Furniture:\n",
    "    def __init__(self):\n",
    "        self._typeOfWood = \"Teakwood\"\n",
    "\n",
    "class Chair(Furniture):\n",
    "    def __init__(self):\n",
    "        # super is used to call base class methods. You will learn more about super in next section.\n",
    "        # Here we are calling the init of our base class to initialise the type of wood as Teakwood\n",
    "        super().__init__()  #return a proxy object which represents the parent’s class.\n",
    "        self.__numberOfLegs = 4\n",
    "\n",
    "    def setWoodType(self, typeOfWood):\n",
    "        self._typeOfWood = typeOfWood\n",
    "\n",
    "    def displayChairSpecification(self):\n",
    "        print(\"This chair is made of {} and has {} legs\".format(self._typeOfWood, self.__numberOfLegs))\n",
    "\n",
    "chair = Chair()\n",
    "print(\"Would you like to change the type of wood from Teakwood? Y/N\")\n",
    "userChoice = input()\n",
    "if userChoice is 'Y':\n",
    "    print(\"Enter the type of wood you would like your chair to be made of\")\n",
    "    typeOfWood = input()\n",
    "    chair.setWoodType(typeOfWood)\n",
    "chair.displayChairSpecification()"
   ]
  },
  {
   "cell_type": "code",
   "execution_count": 6,
   "metadata": {},
   "outputs": [],
   "source": [
    "#Create a class called Square and perform the following tasks -\n",
    "#(i) Create two objects for this class squareOne and squareTwo\n",
    "#(ii) Find the result of side of squareOne to the power of side of squareTwo\n",
    "\n",
    "#Example: If squareOne has length of 2cm each side and\n",
    "#squareTwo has a length of 4cm each side, squareOne **\n",
    "#squareTwo should return 16, which is 2 to the power of 4.\n",
    "\n",
    "#Hint: While performing SquareOne ** SquareTwo, you need to\n",
    "#overload __pow__() method"
   ]
  },
  {
   "cell_type": "code",
   "execution_count": 7,
   "metadata": {},
   "outputs": [
    {
     "name": "stdout",
     "output_type": "stream",
     "text": [
      "squareOne to the power of squareTwo =  16\n"
     ]
    }
   ],
   "source": [
    "class Square:\n",
    "    def __init__(self, side):\n",
    "        self.side = side\n",
    "\n",
    "    # Overload the exponential operator\n",
    "    def __pow__(squareOne, squareTwo):\n",
    "        # Return side of squareOne to the power of side of squareTwo\n",
    "        return squareOne.side ** squareTwo.side\n",
    "\n",
    "squareOne = Square(2)\n",
    "squareTwo = Square(4)\n",
    "print(\"squareOne to the power of squareTwo = \", squareOne ** squareTwo)"
   ]
  },
  {
   "cell_type": "markdown",
   "metadata": {},
   "source": [
    "# Banking System"
   ]
  },
  {
   "cell_type": "code",
   "execution_count": null,
   "metadata": {},
   "outputs": [
    {
     "name": "stdout",
     "output_type": "stream",
     "text": [
      "\n",
      "Enter 1 to create a new account\n",
      "Enter 2 to access an existing account\n",
      "Enter 3 to exit\n",
      "1\n",
      "\n",
      "\n",
      "Enter your name: \n",
      "ravi\n",
      "Enter the initial deposit: \n",
      "5000\n",
      "\n",
      "Account creation has been successful. Your account number is  35112\n",
      "\n",
      "\n",
      "\n",
      "Enter 1 to create a new account\n",
      "Enter 2 to access an existing account\n",
      "Enter 3 to exit\n"
     ]
    }
   ],
   "source": [
    "from abc import ABCMeta, abstractmethod\n",
    "from random import randint\n",
    "\n",
    "class Account(metaclass = ABCMeta):\n",
    "    @abstractmethod\n",
    "    def createAccount():\n",
    "        return 0\n",
    "    @abstractmethod\n",
    "    def authenticate():\n",
    "        return 0\n",
    "    @abstractmethod\n",
    "    def withdraw():\n",
    "        return 0\n",
    "    @abstractmethod\n",
    "    def deposit():\n",
    "        return 0\n",
    "    @abstractmethod\n",
    "    def displayBalance():\n",
    "        return 0\n",
    "\n",
    "\n",
    "class SavingsAccount(Account):\n",
    "    def __init__(self):\n",
    "        # [key][0] => name ; [key][1] => balance\n",
    "        self.savingsAccounts = {}\n",
    "    def createAccount(self, name, initialDeposit):\n",
    "        print()\n",
    "        self.accountNumber = randint(10000, 99999)\n",
    "        self.savingsAccounts[self.accountNumber] = [name, initialDeposit]\n",
    "        print(\"Account creation has been successful. Your account number is \", self.accountNumber)\n",
    "        print()\n",
    "\n",
    "    def authenticate(self, name, accountNumber):\n",
    "        print()\n",
    "        if accountNumber in self.savingsAccounts.keys():\n",
    "            if self.savingsAccounts[accountNumber][0] == name:\n",
    "                print(\"Authentication Successful\")\n",
    "                self.accountNumber = accountNumber\n",
    "                print()\n",
    "                return True\n",
    "            else:\n",
    "                print(\"Authentication Failed\")\n",
    "                print()\n",
    "                return False\n",
    "        else:\n",
    "            print(\"Authentication Failed\")\n",
    "            print()\n",
    "            return False\n",
    "\n",
    "    def withdraw(self, withdrawalAmount):\n",
    "        print()\n",
    "        if withdrawalAmount > self.savingsAccounts[self.accountNumber][1]:\n",
    "            print(\"Insufficient balance\")\n",
    "        else:\n",
    "            self.savingsAccounts[self.accountNumber][1] -= withdrawalAmount\n",
    "            print(\"Withdrawal was successful.\")\n",
    "            self.displayBalance()\n",
    "        print()\n",
    "\n",
    "    def deposit(self, depositAmount):\n",
    "        print()\n",
    "        self.savingsAccounts[self.accountNumber][1] += depositAmount\n",
    "        print(\"Deposit was successful.\")\n",
    "        self.displayBalance()\n",
    "        print()\n",
    "\n",
    "    def displayBalance(self):\n",
    "        print(\"Avaialble balance: \",self.savingsAccounts[self.accountNumber][1])\n",
    "\n",
    "savingsAccount = SavingsAccount()\n",
    "while True:\n",
    "    print()\n",
    "    print(\"Enter 1 to create a new account\")\n",
    "    print(\"Enter 2 to access an existing account\")\n",
    "    print(\"Enter 3 to exit\")\n",
    "    userChoice = int(input())\n",
    "    print()\n",
    "    if userChoice is 1:\n",
    "        print()\n",
    "        print(\"Enter your name: \")\n",
    "        name = input()\n",
    "        print(\"Enter the initial deposit: \")\n",
    "        deposit = int(input())\n",
    "        savingsAccount.createAccount(name, deposit)\n",
    "        print()\n",
    "    elif userChoice is 2:\n",
    "        print()\n",
    "        print(\"Enter your name: \")\n",
    "        name = input()\n",
    "        print(\"Enter your account number: \")\n",
    "        accountNumber = int(input())\n",
    "        authenticationStatus = savingsAccount.authenticate(name, accountNumber)\n",
    "        print()\n",
    "        if authenticationStatus is True:\n",
    "            while True:\n",
    "                print()\n",
    "                print(\"Enter 1 to withdraw\")\n",
    "                print(\"Enter 2 to deposit\")\n",
    "                print(\"Enter 3 to display avialable balance\")\n",
    "                print(\"Enter 4 to go back to the previous menu\")\n",
    "                userChoice = int(input())\n",
    "                print()\n",
    "                if userChoice is 1:\n",
    "                    print()\n",
    "                    print(\"Enter a withdrawal amount\")\n",
    "                    withdrawalAmount = int(input())\n",
    "                    savingsAccount.withdraw(withdrawalAmount)\n",
    "                    print()\n",
    "                elif userChoice is 2:\n",
    "                    print()\n",
    "                    print(\"Enter an amount to be deposited\")\n",
    "                    depositAmount = int(input())\n",
    "                    savingsAccount.deposit(depositAmount)\n",
    "                    print()\n",
    "                elif userChoice is 3:\n",
    "                    print()\n",
    "                    savingsAccount.displayBalance()\n",
    "                    print()\n",
    "                elif userChoice is 4:\n",
    "                    break\n",
    "    elif userChoice is 3:\n",
    "        quit()"
   ]
  },
  {
   "cell_type": "code",
   "execution_count": null,
   "metadata": {},
   "outputs": [],
   "source": []
  },
  {
   "cell_type": "code",
   "execution_count": null,
   "metadata": {},
   "outputs": [],
   "source": []
  }
 ],
 "metadata": {
  "kernelspec": {
   "display_name": "Python 3",
   "language": "python",
   "name": "python3"
  },
  "language_info": {
   "codemirror_mode": {
    "name": "ipython",
    "version": 3
   },
   "file_extension": ".py",
   "mimetype": "text/x-python",
   "name": "python",
   "nbconvert_exporter": "python",
   "pygments_lexer": "ipython3",
   "version": "3.7.9"
  }
 },
 "nbformat": 4,
 "nbformat_minor": 4
}
